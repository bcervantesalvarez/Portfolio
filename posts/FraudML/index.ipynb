{
 "cells": [
  {
   "cell_type": "raw",
   "id": "9bc4aed7",
   "metadata": {},
   "source": [
    "---\n",
    "title: 'Boosting Fraud Detection: Enhancing Accuracy with GBM'\n",
    "author: Brian Cervantes Alvarez\n",
    "date: 5-30-2023\n",
    "description: 'I developed a model that enhances fraud detection in this dataset, contributing to ongoing advancements in this challenging task'\n",
    "image: fraud.png\n",
    "format:\n",
    "  html:\n",
    "    toc: true\n",
    "    toc-location: right\n",
    "    html-math-method: katex\n",
    "    page-layout: full\n",
    "execute:\n",
    "  warning: false\n",
    "  message: false\n",
    "categories:\n",
    "  - Python\n",
    "  - Machine Learning\n",
    "  - Gradient Boosting Machines\n",
    "---"
   ]
  },
  {
   "cell_type": "markdown",
   "id": "fb4433a8",
   "metadata": {},
   "source": [
    "![](fraud.png)\n",
    "\n",
    "\n",
    "<div class=\"download-buttons\" style=\"text-align: center;\">\n",
    "  <style>\n",
    "    .download-buttons a.button {\n",
    "      display: inline-block;\n",
    "      padding-right: 10px;\n",
    "      padding-left: 35px;\n",
    "      padding-top: 10px;\n",
    "      padding-bottom: 10px;\n",
    "      margin-right: 25px;\n",
    "      background-color: #343a40;\n",
    "      color: #fff;\n",
    "      text-decoration: none;\n",
    "      border-radius: 15px;\n",
    "      position: relative;\n",
    "    }\n",
    "\n",
    "    .download-buttons a.button:last-child {\n",
    "      margin-right: 0;\n",
    "    }\n",
    "\n",
    "    .download-buttons a.button:hover {\n",
    "      background-color: #55595c;\n",
    "    }\n",
    "\n",
    "    .download-buttons a.button:after {\n",
    "      content: \"\\2193\";\n",
    "      font-size: 20px;\n",
    "      position: absolute;\n",
    "      top: 50%;\n",
    "      left: 12px; /* Added margin from the text */\n",
    "      transform: translateY(-50%);\n",
    "      border-bottom: 2px solid #fff;\n",
    "      padding: 1px; /* Padding for the mini border block */\n",
    "    }\n",
    "  </style>\n",
    "\n",
    "  <script>\n",
    "    function createDynamicButton(href, text) {\n",
    "      var button = document.createElement(\"a\");\n",
    "      button.href = href;\n",
    "      button.className = \"button\";\n",
    "      button.appendChild(document.createTextNode(text));\n",
    "      return button;\n",
    "    }\n",
    "\n",
    "    var downloadButtonsDiv = document.querySelector(\".download-buttons\");\n",
    "\n",
    "    var documentButton = createDynamicButton(\n",
    "      \"https://github.com/bcervantesalvarez/Portfolio/blob/main/posts/FraudML/index.qmd\",\n",
    "      \"Download .qmd\"\n",
    "    );\n",
    "    downloadButtonsDiv.appendChild(documentButton);\n",
    "\n",
    "    var csvButton = createDynamicButton(\n",
    "      \"https://www.kaggle.com/datasets/harithapliyal/card-transaction-log/download?datasetVersionNumber=1\",\n",
    "      \"Download .zip\"\n",
    "    );\n",
    "    downloadButtonsDiv.appendChild(csvButton);\n",
    "  </script>\n",
    "</div>\n",
    "\n",
    "\n",
    "## Abstract\n",
    "\n",
    "Fraud detection is a challenging task, but advancements are being made each year. This project aims to improve fraud detection using a Gradient Boosting Machine (GBM) model. The dataset is prepared, and the model is trained and evaluated on validation and test sets. Performance metrics such as accuracy, precision, recall, AUC, and Kappa coefficient are computed. A comparison is made with the existing 'isFlaggedFraud' column model. The GBM model demonstrates higher performance in various aspects, highlighting its superiority in classifying fraudulent transactions. However, further improvements are needed to enhance fraud detection while maintaining precision.\n",
    "\n",
    "## Introduction\n",
    "\n",
    "Fraudulent activities pose a significant threat in various industries, including financial transactions. Detecting fraudulent transactions is a complex task, but advancements in machine learning techniques have shown promise in improving accuracy and precision. In this project, we focus on enhancing fraud detection using a Gradient Boosting Machine (GBM) model.\n",
    "\n",
    "## Methodology \n",
    "\n",
    "First, we set up the environment by importing necessary libraries and loading the dataset. The dataset, named 'Card-Transaction_log.csv', contains relevant information for training and evaluation. We explore the dataset by printing the first few rows and examining its shape.\n",
    "\n",
    "Next, we perform data wrangling by applying one-hot encoding to the features, excluding 'isFraud', 'nameOrig', 'nameDest', and 'isFlaggedFraud' columns. This process prepares the data for training the GBM model.\n",
    "\n",
    "To evaluate the model's performance, we split the data into training, validation, and test sets. The random seed is set for reproducibility. The GBM model is trained on the training set using the specified parameters, such as loss function, learning rate, number of estimators, and maximum depth. The model's training time is recorded for analysis.\n",
    "\n",
    "We then evaluate the GBM model on the validation set to measure its accuracy, precision, recall, confusion matrix, AUC, and Kappa coefficient. These metrics provide insights into the model's performance in classifying fraudulent and non-fraudulent transactions.\n",
    "\n",
    "Further, we assess the GBM model's performance on the test set and compute the corresponding metrics. The test accuracy, precision, recall, confusion matrix, AUC, and Kappa coefficient provide a comprehensive evaluation of the model's ability to classify transactions accurately.\n",
    "\n",
    "To compare the GBM model with the existing 'isFlaggedFraud' column model, we calculate the accuracy, precision, and recall scores for the 'isFlaggedFraud' column. This analysis allows us to assess the GBM model's superiority in detecting fraudulent transactions.\n",
    "\n",
    "Based on the results, we discuss the GBM model's performance, highlighting its accuracy, precision, recall, AUC, and Kappa coefficient. We analyze the confusion matrix to identify areas where the model misclassifies transactions. While the GBM model outperforms the 'isFlaggedFraud' column model in several aspects, it still has room for improvement in detecting fraudulent instances while maintaining high precision.\n",
    "\n",
    "\n",
    "::: {.callout-caution}\n",
    "## Caution\n",
    "\n",
    "Ensure you are using the correct Python version: Python 3.10.9 ('base') ~/anaconda3/bin/python\n",
    ":::\n",
    "\n",
    "\n",
    "### Set up"
   ]
  },
  {
   "cell_type": "code",
   "execution_count": 1,
   "id": "5463f8a3",
   "metadata": {},
   "outputs": [
    {
     "name": "stdout",
     "output_type": "stream",
     "text": [
      "   step      type    amount     nameOrig  oldbalanceOrg  newbalanceOrig  \\\n",
      "0     1   PAYMENT   9839.64  C1231006815       170136.0       160296.36   \n",
      "1     1   PAYMENT   1864.28  C1666544295        21249.0        19384.72   \n",
      "2     1  TRANSFER    181.00  C1305486145          181.0            0.00   \n",
      "3     1  CASH_OUT    181.00   C840083671          181.0            0.00   \n",
      "4     1   PAYMENT  11668.14  C2048537720        41554.0        29885.86   \n",
      "\n",
      "      nameDest  oldbalanceDest  newbalanceDest  isFraud  isFlaggedFraud  \n",
      "0  M1979787155             0.0             0.0        0               0  \n",
      "1  M2044282225             0.0             0.0        0               0  \n",
      "2   C553264065             0.0             0.0        1               0  \n",
      "3    C38997010         21182.0             0.0        1               0  \n",
      "4  M1230701703             0.0             0.0        0               0  \n",
      "(6362620, 11)\n"
     ]
    }
   ],
   "source": [
    "import numpy as np\n",
    "import pandas as pd\n",
    "import time\n",
    "from sklearn.ensemble import GradientBoostingClassifier  # For classification tasks\n",
    "from sklearn.ensemble import GradientBoostingRegressor  # For regression tasks\n",
    "from sklearn.model_selection import train_test_split\n",
    "from sklearn.metrics import (\n",
    "    accuracy_score,\n",
    "    confusion_matrix,\n",
    "    precision_score,\n",
    "    recall_score,\n",
    "    roc_auc_score,\n",
    "    roc_curve,\n",
    "    cohen_kappa_score,\n",
    ")\n",
    "\n",
    "ds = pd.read_csv('Card-Transaction_log.csv')\n",
    "\n",
    "# Print the first 5 rows\n",
    "print(ds.head(5))\n",
    "\n",
    "# Print the shape of the frame\n",
    "print(ds.shape)"
   ]
  },
  {
   "cell_type": "markdown",
   "id": "5b67d198",
   "metadata": {},
   "source": [
    "### Data Wrangling "
   ]
  },
  {
   "cell_type": "code",
   "execution_count": 2,
   "id": "e810bd35",
   "metadata": {},
   "outputs": [],
   "source": [
    "X = pd.get_dummies(ds.drop(['isFraud', 'nameOrig', 'nameDest', 'isFlaggedFraud'], axis=1))   # Perform one-hot encoding on the features\n",
    "y = ds['isFraud']"
   ]
  },
  {
   "cell_type": "markdown",
   "id": "31f6b6eb",
   "metadata": {},
   "source": [
    "::: {.callout-note}\n",
    "## Note\n",
    "\n",
    "This dataset was already cleaned and tidy, so no additional wrangling was needed.\n",
    ":::\n",
    "\n",
    "### Split the data into training, validation, and test sets"
   ]
  },
  {
   "cell_type": "code",
   "execution_count": 3,
   "id": "ac3d49a9",
   "metadata": {},
   "outputs": [
    {
     "name": "stdout",
     "output_type": "stream",
     "text": [
      "Elapsed Time: 1052.879863023758 seconds\n"
     ]
    }
   ],
   "source": [
    "# Set the random seed\n",
    "np.random.seed(57)\n",
    "\n",
    "# Training split\n",
    "X_train, X_val, y_train, y_val = train_test_split(X, y, test_size=0.2, random_state=42)\n",
    "X_val, X_test, y_val, y_test = train_test_split(X_val, y_val, test_size=0.5, random_state=42)\n",
    "\n",
    "\n",
    "# Train the model\n",
    "start_time = time.time()  # Start the timer\n",
    "\n",
    "gbm = GradientBoostingClassifier(loss='log_loss', learning_rate=0.1, n_estimators=100, max_depth=3)\n",
    "gbm.fit(X_train, y_train)\n",
    "\n",
    "end_time = time.time()  # Stop the timer\n",
    "\n",
    "elapsed_time = end_time - start_time\n",
    "print(f\"Elapsed Time: {elapsed_time} seconds\")"
   ]
  },
  {
   "cell_type": "markdown",
   "id": "a9c18c3b",
   "metadata": {},
   "source": [
    "### Evaluate on the validation set"
   ]
  },
  {
   "cell_type": "code",
   "execution_count": 4,
   "id": "0dc8c8f1",
   "metadata": {},
   "outputs": [
    {
     "name": "stdout",
     "output_type": "stream",
     "text": [
      "Validation Accuracy: 0.9993241777758219\n",
      "Validation Precision: 0.9693396226415094\n",
      "Validation Recall: 0.4963768115942029\n",
      "Validation Confusion Matrix:\n",
      "[[635421     13]\n",
      " [   417    411]]\n",
      "Validation AUC: 0.7481781765679447\n",
      "Validation Kappa: 0.6562465275067701\n"
     ]
    }
   ],
   "source": [
    "y_pred_val = gbm.predict(X_val)\n",
    "accuracy_val = accuracy_score(y_val, y_pred_val)\n",
    "precision_val = precision_score(y_val, y_pred_val)\n",
    "recall_val = recall_score(y_val, y_pred_val)\n",
    "confusion_matrix_val = confusion_matrix(y_val, y_pred_val)\n",
    "auc_val = roc_auc_score(y_val, y_pred_val)\n",
    "fpr_val, tpr_val, thresholds_val = roc_curve(y_val, y_pred_val)\n",
    "kappa_val = cohen_kappa_score(y_val, y_pred_val)\n",
    "\n",
    "print(f\"Validation Accuracy: {accuracy_val}\")\n",
    "print(f\"Validation Precision: {precision_val}\")\n",
    "print(f\"Validation Recall: {recall_val}\")\n",
    "print(\"Validation Confusion Matrix:\")\n",
    "print(confusion_matrix_val)\n",
    "print(f\"Validation AUC: {auc_val}\")\n",
    "print(f\"Validation Kappa: {kappa_val}\")"
   ]
  },
  {
   "cell_type": "markdown",
   "id": "6b5d095c",
   "metadata": {},
   "source": [
    "### Evaluate on the test set"
   ]
  },
  {
   "cell_type": "code",
   "execution_count": 5,
   "id": "40133165",
   "metadata": {},
   "outputs": [
    {
     "name": "stdout",
     "output_type": "stream",
     "text": [
      "Test Accuracy: 0.9992958875431819\n",
      "Test Precision: 0.9455958549222798\n",
      "Test Recall: 0.46085858585858586\n",
      "Test Confusion Matrix:\n",
      "[[635449     21]\n",
      " [   427    365]]\n",
      "Test AUC: 0.7304127697259946\n",
      "Test Kappa: 0.6193839067580158\n"
     ]
    }
   ],
   "source": [
    "y_pred_test = gbm.predict(X_test)\n",
    "accuracy_test = accuracy_score(y_test, y_pred_test)\n",
    "precision_test = precision_score(y_test, y_pred_test)\n",
    "recall_test = recall_score(y_test, y_pred_test)\n",
    "confusion_matrix_test = confusion_matrix(y_test, y_pred_test)\n",
    "auc_test = roc_auc_score(y_test, y_pred_test)\n",
    "fpr_test, tpr_test, thresholds_test = roc_curve(y_test, y_pred_test)\n",
    "kappa_test = cohen_kappa_score(y_test, y_pred_test)\n",
    "\n",
    "print(f\"Test Accuracy: {accuracy_test}\")\n",
    "print(f\"Test Precision: {precision_test}\")\n",
    "print(f\"Test Recall: {recall_test}\")\n",
    "print(\"Test Confusion Matrix:\")\n",
    "print(confusion_matrix_test)\n",
    "print(f\"Test AUC: {auc_test}\")\n",
    "print(f\"Test Kappa: {kappa_test}\")"
   ]
  },
  {
   "cell_type": "markdown",
   "id": "ec3e66d8",
   "metadata": {},
   "source": [
    "### How does this compare to the current model?"
   ]
  },
  {
   "cell_type": "code",
   "execution_count": 6,
   "id": "125986f1",
   "metadata": {},
   "outputs": [
    {
     "name": "stdout",
     "output_type": "stream",
     "text": [
      "Accuracy (isFlaggedFraud): 0.9987116942391656\n",
      "Precision (isFlaggedFraud): 1.0\n",
      "Recall (isFlaggedFraud): 0.0019481310118105442\n"
     ]
    }
   ],
   "source": [
    "# Comparison with 'isFlaggedFraud' column\n",
    "is_flagged_fraud_accuracy = accuracy_score(ds['isFraud'], ds['isFlaggedFraud'])\n",
    "is_flagged_fraud_precision = precision_score(ds['isFraud'], ds['isFlaggedFraud'])\n",
    "is_flagged_fraud_recall = recall_score(ds['isFraud'], ds['isFlaggedFraud'])\n",
    "\n",
    "print(f\"Accuracy (isFlaggedFraud): {is_flagged_fraud_accuracy}\")\n",
    "print(f\"Precision (isFlaggedFraud): {is_flagged_fraud_precision}\")\n",
    "print(f\"Recall (isFlaggedFraud): {is_flagged_fraud_recall}\")"
   ]
  },
  {
   "cell_type": "markdown",
   "id": "01df8707",
   "metadata": {},
   "source": [
    "## Results\n",
    "\n",
    "Based on the evaluation of the GBM (Gradient Boosting Machine) model on the test set, the following performance metrics were obtained:\n",
    "\n",
    "- Test Accuracy: 0.9992958875431819\n",
    "- Test Precision: 0.9455958549222798\n",
    "- Test Recall: 0.46085858585858586\n",
    "- Test AUC: 0.7304127697259946\n",
    "- Test Kappa: 0.6193839067580158\n",
    "\n",
    "The GBM model achieved a high accuracy score of 0.999, indicating a strong ability to correctly classify transactions in the test set. With a precision of 0.946, the GBM model accurately identified approximately 94.6% of the predicted fraudulent transactions. However, the recall score of 0.461 suggests that the GBM model only captured around 46.1% of the actual fraudulent transactions.\n",
    "\n",
    "Analyzing the confusion matrix, the GBM model correctly classified a large number of non-fraudulent transactions (true negatives) and a significant portion of fraudulent transactions (true positives). However, there were some instances where the GBM model misclassified non-fraudulent transactions as fraudulent (false positives) and failed to identify certain fraudulent transactions (false negatives).\n",
    "\n",
    "The AUC score of 0.730 indicates a moderate level of discrimination between fraudulent and non-fraudulent transactions for the GBM model. Although the GBM model demonstrates substantial agreement beyond chance with a Kappa coefficient of 0.619, there is room for improvement in its ability to detect fraudulent instances while maintaining high precision.\n",
    "\n",
    "### Comparison with Original Model\n",
    "\n",
    "Comparing the GBM model with the 'isFlaggedFraud' column model, the GBM model outperforms in several key aspects. It achieves higher accuracy, precision, recall, and AUC scores, indicating superior overall performance in classifying fraudulent transactions. The 'isFlaggedFraud' column model, although having perfect precision, only detects a very small number of actual fraud cases, resulting in low recall.\n",
    "\n",
    "## Limitations and Further Study\n",
    "\n",
    "It is important to consider the specific goals and requirements of the application. While the GBM model provides better overall performance, it may have a higher number of false positives compared to the 'isFlaggedFraud' column model. Further enhancements can be made to improve the GBM model's ability to detect fraudulent transactions while maintaining high precision.\n",
    "\n",
    "These results provide valuable insights into the GBM model's performance on unseen data, indicating its generalization capability. It is crucial to consider the test set performance as the final evaluation of the GBM model's effectiveness in real-world scenarios.\n"
   ]
  }
 ],
 "metadata": {
  "kernelspec": {
   "display_name": "Python 3 (ipykernel)",
   "language": "python",
   "name": "python3"
  },
  "language_info": {
   "codemirror_mode": {
    "name": "ipython",
    "version": 3
   },
   "file_extension": ".py",
   "mimetype": "text/x-python",
   "name": "python",
   "nbconvert_exporter": "python",
   "pygments_lexer": "ipython3",
   "version": "3.10.9"
  }
 },
 "nbformat": 4,
 "nbformat_minor": 5
}
